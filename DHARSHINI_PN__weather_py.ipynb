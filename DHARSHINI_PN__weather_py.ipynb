{
  "nbformat": 4,
  "nbformat_minor": 0,
  "metadata": {
    "colab": {
      "name": "DHARSHINI PN _weather.py",
      "provenance": []
    },
    "kernelspec": {
      "name": "python3",
      "display_name": "Python 3"
    },
    "language_info": {
      "name": "python"
    }
  },
  "cells": [
    {
      "cell_type": "code",
      "metadata": {
        "id": "6rVRT2jD3pH5"
      },
      "source": [
        ""
      ],
      "execution_count": null,
      "outputs": []
    },
    {
      "cell_type": "code",
      "metadata": {
        "colab": {
          "base_uri": "https://localhost:8080/"
        },
        "id": "L5BhrNKWuH9X",
        "outputId": "9931d036-746f-4142-c083-c1259ebd798c"
      },
      "source": [
        "!pip install requests\n",
        "import requests\n",
        "from datetime import datetime\n",
        "api_key = '1d7bc8f9bc8dcb855600b7e3cc9b0ee0'\n",
        "location = input(\"Enter the city name: \")\n",
        "complete_api_link = \"https://api.openweathermap.org/data/2.5/weather?q=\"+location+\"&appid=\"+api_key\n",
        "api_link = requests.get(complete_api_link)\n",
        "api_data = api_link.json()\n",
        "temp_city=((api_data['main']['temp']) - 273.15)\n",
        "weather_desc = api_data['weather'][0]['description']\n",
        "hmdt = api_data['main']['humidity']\n",
        "wind_spd = api_data['wind']['speed']\n",
        "date_time = datetime.now().strftime(\"%d %b %Y | %I:%M:%S %p\")\n",
        "print(\"----------------------------------------------------------------------\")\n",
        "print(\"Weather Stats for - {} || {}\".format(location.upper(),date_time))\n",
        "print(\"----------------------------------------------------------------------\")\n",
        "print(\"Current temperature is : {:.2f} deg C\".format(temp_city))\n",
        "print(\"Current weather desc   :\",weather_desc)\n",
        "print(\"Current Humidity       :\",hmdt,'%')\n",
        "print(\"Current wind speed)    :\",wind_spd,'kmph')"
      ],
      "execution_count": 19,
      "outputs": [
        {
          "output_type": "stream",
          "text": [
            "Requirement already satisfied: requests in /usr/local/lib/python3.7/dist-packages (2.23.0)\n",
            "Requirement already satisfied: certifi>=2017.4.17 in /usr/local/lib/python3.7/dist-packages (from requests) (2021.5.30)\n",
            "Requirement already satisfied: urllib3!=1.25.0,!=1.25.1,<1.26,>=1.21.1 in /usr/local/lib/python3.7/dist-packages (from requests) (1.24.3)\n",
            "Requirement already satisfied: idna<3,>=2.5 in /usr/local/lib/python3.7/dist-packages (from requests) (2.10)\n",
            "Requirement already satisfied: chardet<4,>=3.0.2 in /usr/local/lib/python3.7/dist-packages (from requests) (3.0.4)\n",
            "Enter the city name: Tambaram\n",
            "----------------------------------------------------------------------\n",
            "Weather Stats for - TAMBARAM || 22 Jun 2021 | 01:47:58 PM\n",
            "----------------------------------------------------------------------\n",
            "Current temperature is : 30.86 deg C\n",
            "Current weather desc   : scattered clouds\n",
            "Current Humidity       : 70 %\n",
            "Current wind speed)    : 4.63 kmph\n"
          ],
          "name": "stdout"
        }
      ]
    }
  ]
}